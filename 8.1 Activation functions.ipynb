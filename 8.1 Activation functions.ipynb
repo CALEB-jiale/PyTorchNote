{
 "cells": [
  {
   "cell_type": "markdown",
   "id": "ff97a65c",
   "metadata": {},
   "source": [
    "### Why\n",
    "\n",
    "With non-linear transformations, the network can learn better and perform more complex tasks"
   ]
  },
  {
   "cell_type": "markdown",
   "id": "b5bd4880",
   "metadata": {},
   "source": [
    "### Most popular activation functions\n",
    "\n",
    "#### 1. Step function\n",
    "\n",
    "$$\n",
    "f(x)=\n",
    "\\begin{cases}\n",
    "1& \\text{if x ≥ 0}\\\\\n",
    "0& \\text{otherwise}\n",
    "\\end{cases}\n",
    "$$\n",
    "\n",
    "实践中不会使用\n",
    "\n",
    "#### 2. Sigmoid\n",
    "\n",
    "$$f(x) = \\frac{1}{1+e^{-x}}$$\n",
    "\n",
    "常用于二分类问题的最后一层\n",
    "\n",
    "``nn.Sigmoid``\n",
    "``torch.sigmoid``\n",
    "\n",
    "#### 3. TanH\n",
    "\n",
    "$$f(x)=\\frac{2}{1+e^{-2x}}-1$$\n",
    "\n",
    "Hiddeen layers\n",
    "\n",
    "``nn.TanH``\n",
    "``torch.tanh``\n",
    "\n",
    "#### 4. ReLU\n",
    "\n",
    "$$f(x)=max(0, x)$$\n",
    "\n",
    "If you don't know what to use, just use a ReLU for hidden layers\n",
    "\n",
    "``nn.ReLU``\n",
    "``torch.relu``\n",
    "``F.relu``\n",
    "\n",
    "#### 5. Leaky ReLU\n",
    "\n",
    "$$\n",
    "f(x)=\n",
    "\\begin{cases}\n",
    "x & \\text{if x ≥ 0}\\\\\n",
    "a \\cdot x & \\text{otherwise}\n",
    "\\end{cases}\n",
    "$$\n",
    "\n",
    "Improved version of ReLU. Tries to solve the canishing gradient problem\n",
    "\n",
    "``nn.LeakyReLU``\n",
    "``F.leaky_relu``\n",
    "\n",
    "#### 6. Softmax\n",
    "\n",
    "$$S(y_i)=\\frac{e^{y_i}}{\\sum{e^{y_j}}}$$\n",
    "\n",
    "常用语多分类问题的最后一层\n",
    "\n",
    "``nn.Softmax``\n",
    "``torch.softmax``"
   ]
  },
  {
   "cell_type": "code",
   "execution_count": 1,
   "id": "d73bb485",
   "metadata": {},
   "outputs": [],
   "source": [
    "import torch\n",
    "import torch.nn as nn\n",
    "import torch.nn.functional as F"
   ]
  },
  {
   "cell_type": "code",
   "execution_count": null,
   "id": "af620be6",
   "metadata": {},
   "outputs": [],
   "source": [
    "# option 1 (create nn modeles)\n",
    "class NeuralNet(nn.Module):\n",
    "    def __init__(self, input_size, hidden_size):\n",
    "        super(NeuralNet, self).__init__()\n",
    "        self.linear1 = nn.Linear(input_size, hidden_size)\n",
    "        self.relu = nn.ReLU()\n",
    "        self.linear2 = nn.Linear(hidden_size, 1)\n",
    "        self.sigmoid = nn.Sigmoid()\n",
    "        \n",
    "    def forward(self, x):\n",
    "        out = self.linear1(x)\n",
    "        out = self.relu(out)\n",
    "        out = self.linear2(out)\n",
    "        out = self.sigmoid(out)\n",
    "        return out"
   ]
  },
  {
   "cell_type": "code",
   "execution_count": null,
   "id": "9404e7d8",
   "metadata": {},
   "outputs": [],
   "source": [
    "# option 2 (use activation functions directly in forward pass)\n",
    "class NeuralNet(nn.Module):\n",
    "    def __init__(self, input_size, hidden_size):\n",
    "        super(NeuralNet, self).__init__()\n",
    "        self.linear1 = nn.Linear(input_size, hidden_size)\n",
    "        self.linear2 = nn.Linear(hidden_size, 1)\n",
    "        \n",
    "    def forward(self, x):\n",
    "        out = torch.relu(self.linear1(x))\n",
    "        out = torch.sigmoid(self.linear2(out))\n",
    "        return out"
   ]
  }
 ],
 "metadata": {
  "kernelspec": {
   "display_name": "Python 3 (ipykernel)",
   "language": "python",
   "name": "python3"
  },
  "language_info": {
   "codemirror_mode": {
    "name": "ipython",
    "version": 3
   },
   "file_extension": ".py",
   "mimetype": "text/x-python",
   "name": "python",
   "nbconvert_exporter": "python",
   "pygments_lexer": "ipython3",
   "version": "3.7.13"
  }
 },
 "nbformat": 4,
 "nbformat_minor": 5
}
