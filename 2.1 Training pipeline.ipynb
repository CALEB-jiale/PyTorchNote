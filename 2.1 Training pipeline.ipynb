{
 "cells": [
  {
   "cell_type": "code",
   "execution_count": 1,
   "id": "d472564c",
   "metadata": {},
   "outputs": [],
   "source": [
    "# 1) design model (input, output size, forward pass)\n",
    "# 2) construct loss and optimizer\n",
    "# 3) training loop\n",
    "#    - forward pass: compute predicgtion\n",
    "#    - backward pass: gradients\n",
    "#    - update weights\n",
    "import torch\n",
    "import torch.nn as nn"
   ]
  },
  {
   "cell_type": "code",
   "execution_count": 2,
   "id": "9c88d0ed",
   "metadata": {},
   "outputs": [],
   "source": [
    "# f = 2 * x\n",
    "# X = np.array([1, 2, 3, 4], dtype = np.float32)\n",
    "# Y = np.array([2, 4, 6, 8], dtype = np.float32)\n",
    "# X = torch.tensor([1, 2, 3, 4], dtype = torch.float32)\n",
    "# Y = torch.tensor([2, 4, 6, 8], dtype = torch.float32)\n",
    "X = torch.tensor([[1], [2], [3], [4]], dtype = torch.float32)\n",
    "Y = torch.tensor([[2], [4], [6], [8]], dtype = torch.float32)"
   ]
  },
  {
   "cell_type": "code",
   "execution_count": 3,
   "id": "6c0ce772",
   "metadata": {},
   "outputs": [
    {
     "name": "stdout",
     "output_type": "stream",
     "text": [
      "4 1\n"
     ]
    }
   ],
   "source": [
    "n_samples, n_features = X.shape\n",
    "print(n_samples, n_features)"
   ]
  },
  {
   "cell_type": "code",
   "execution_count": 4,
   "id": "e9023925",
   "metadata": {},
   "outputs": [],
   "source": [
    "# w = 0.0\n",
    "# w = torch.tensor(0.0, dtype = torch.float32, requires_grad = True)\n",
    "input_size = n_features\n",
    "output_size = n_features\n",
    "# model = nn.Linear(input_size, output_size)\n",
    "\n",
    "class LinearRegression(nn.Module):\n",
    "    def __init__(self, input_dim, output_dim):\n",
    "        super(LinearRegression, self).__init__()\n",
    "        # define layers\n",
    "        self.lin = nn.Linear(input_dim, output_dim)\n",
    "    \n",
    "    def forward(self, x):\n",
    "        return self.lin(x)\n",
    "    \n",
    "model = LinearRegression(input_size, output_size)"
   ]
  },
  {
   "cell_type": "code",
   "execution_count": 5,
   "id": "9297451c",
   "metadata": {},
   "outputs": [
    {
     "name": "stdout",
     "output_type": "stream",
     "text": [
      "Prediction before training: f(5) = 2.119\n"
     ]
    }
   ],
   "source": [
    "X_test = torch.tensor([5], dtype = torch.float32)\n",
    "print(f\"Prediction before training: f(5) = {model(X_test).item():.3f}\")"
   ]
  },
  {
   "cell_type": "code",
   "execution_count": 6,
   "id": "50cc352f",
   "metadata": {},
   "outputs": [],
   "source": [
    "# model prediction\n",
    "# def forward(x):\n",
    "#     return w * x"
   ]
  },
  {
   "cell_type": "code",
   "execution_count": 7,
   "id": "32656836",
   "metadata": {},
   "outputs": [],
   "source": [
    "# loss = MSE\n",
    "# def loss(y, y_predicted):\n",
    "#     return ((y_predicted - y)**2).mean()\n",
    "loss = nn.MSELoss()"
   ]
  },
  {
   "cell_type": "code",
   "execution_count": 8,
   "id": "be556110",
   "metadata": {},
   "outputs": [],
   "source": [
    "# # gradient\n",
    "# # MSE = 1/N * (w*x - y)**2\n",
    "# # dJ/dw = 1/N 2x (w*x - y)\n",
    "# def gradient(x, y, y_predicted):\n",
    "#     return np.dot(2*x, y_predicted - y).mean()"
   ]
  },
  {
   "cell_type": "code",
   "execution_count": 9,
   "id": "e053664a",
   "metadata": {
    "scrolled": true
   },
   "outputs": [],
   "source": [
    "# print(f\"Prediction before training: f(5) = {forward(5):.3f}\")"
   ]
  },
  {
   "cell_type": "code",
   "execution_count": 10,
   "id": "db0195c4",
   "metadata": {
    "scrolled": true
   },
   "outputs": [
    {
     "name": "stdout",
     "output_type": "stream",
     "text": [
      "epoch 1: w = 0.478, loss = 16.22963333\n",
      "epoch 11: w = 1.406, loss = 0.66748106\n",
      "epoch 21: w = 1.565, loss = 0.25044084\n",
      "epoch 31: w = 1.601, loss = 0.22607903\n",
      "epoch 41: w = 1.617, loss = 0.21266691\n",
      "epoch 51: w = 1.629, loss = 0.20028195\n",
      "epoch 61: w = 1.640, loss = 0.18862438\n",
      "epoch 71: w = 1.650, loss = 0.17764547\n",
      "epoch 81: w = 1.661, loss = 0.16730548\n",
      "epoch 91: w = 1.671, loss = 0.15756753\n"
     ]
    }
   ],
   "source": [
    "# Training\n",
    "learning_rate = 0.01\n",
    "n_iters = 100\n",
    "\n",
    "# optimizer = torch.optim.SGD([w], lr = learning_rate)\n",
    "optimizer = torch.optim.SGD(model.parameters(), lr = learning_rate)\n",
    "\n",
    "for epoch in range(n_iters):\n",
    "    # prediction = forward pass\n",
    "#     y_pred = forward(X)\n",
    "    y_pred = model(X)\n",
    "    \n",
    "    # loss\n",
    "    l = loss(Y, y_pred)\n",
    "    \n",
    "#     # gradients\n",
    "#     dw = gradient(X, Y, y_pred)\n",
    "\n",
    "    # gradients = backward pass\n",
    "    l.backward() # dl/dw\n",
    "    \n",
    "    # update weightss\n",
    "# #     w -= leadrning_rate * dw\n",
    "#     with torch.no_grad():\n",
    "#         w -= learning_rate * w.grad\n",
    "    optimizer.step()\n",
    "        \n",
    "    # zero gradients\n",
    "#     w.grad.zero_()\n",
    "    optimizer.zero_grad()\n",
    "    \n",
    "    if epoch % 10 == 0:\n",
    "        [w, b] = model.parameters()\n",
    "#         print(f\"epoch {epoch + 1}: w = {w:.3f}, loss = {l:.8f}\")\n",
    "        print(f\"epoch {epoch + 1}: w = {w[0][0].item():.3f}, loss = {l:.8f}\")"
   ]
  },
  {
   "cell_type": "code",
   "execution_count": 11,
   "id": "22233b1d",
   "metadata": {},
   "outputs": [
    {
     "name": "stdout",
     "output_type": "stream",
     "text": [
      "Prediction before training: f(5) = 9.340\n"
     ]
    }
   ],
   "source": [
    "# print(f\"Prediction after tarining: f(5) = {forward(5):.3f}\")\n",
    "print(f\"Prediction before training: f(5) = {model(X_test).item():.3f}\")"
   ]
  }
 ],
 "metadata": {
  "kernelspec": {
   "display_name": "Python 3 (ipykernel)",
   "language": "python",
   "name": "python3"
  },
  "language_info": {
   "codemirror_mode": {
    "name": "ipython",
    "version": 3
   },
   "file_extension": ".py",
   "mimetype": "text/x-python",
   "name": "python",
   "nbconvert_exporter": "python",
   "pygments_lexer": "ipython3",
   "version": "3.9.13"
  }
 },
 "nbformat": 4,
 "nbformat_minor": 5
}
