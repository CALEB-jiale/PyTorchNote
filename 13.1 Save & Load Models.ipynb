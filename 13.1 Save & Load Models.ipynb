{
 "cells": [
  {
   "cell_type": "code",
   "execution_count": 1,
   "id": "1edc2393",
   "metadata": {},
   "outputs": [],
   "source": [
    "# torch.save(arg, PATH)\n",
    "# torch.load(PATH)\n",
    "# model.load_state_dict(arg)\n",
    "\n",
    "##### Method 1 Complete Model #####\n",
    "# torch.save(model, PATH)\n",
    "\n",
    "## model calss must be defined somewhere\n",
    "# mdoel = torch.load(PATH)\n",
    "# model.eval()\n",
    "\n",
    "##### Method 2 State Dict (recommended) #####\n",
    "# torch.save(model.state_dict(), PATH)\n",
    "\n",
    "## mdoel must be created again with parameters\n",
    "# model = Model(*args, **kwargs)\n",
    "# model.load_state_dict(torch.load(PATH))\n",
    "# model.eval()"
   ]
  },
  {
   "cell_type": "code",
   "execution_count": null,
   "id": "9776e8e0",
   "metadata": {},
   "outputs": [],
   "source": [
    "## save on GPU, load on CPU\n",
    "# device = torch.device(\"cuda\")\n",
    "# model.to(device)\n",
    "# torch.save(model.state_dict(), PATH)\n",
    "\n",
    "# device = torch.device(\"cpu\")\n",
    "# model = Model(*args, **kwargs)\n",
    "# model.load_state_dict(torch.load(PATH, map_location=device))"
   ]
  },
  {
   "cell_type": "code",
   "execution_count": null,
   "id": "91a4a23d",
   "metadata": {},
   "outputs": [],
   "source": [
    "## save on GPU, load on GPU\n",
    "# device = torch.device(\"cuda\")\n",
    "# model.to(device)\n",
    "# torch.save(model.state_dict(), PATH)\n",
    "\n",
    "# model = Model(*args, **kwargs)\n",
    "# model.load_state_dict(torch.load(PATH))\n",
    "# model.to(device)"
   ]
  },
  {
   "cell_type": "code",
   "execution_count": null,
   "id": "cddbdc95",
   "metadata": {},
   "outputs": [],
   "source": [
    "## save on CPU, load on GPU\n",
    "# torch.save(model.state_dict(), PATH)\n",
    "\n",
    "# device = torch.device(\"cuda\")\n",
    "# model = Model(*args, **kwargs)\n",
    "# model.load_state_dict(torch.load(PATH, map_location=\"cuda:0\")) # choose whatever GPU device number\n",
    "# model.to(device)"
   ]
  },
  {
   "cell_type": "code",
   "execution_count": 2,
   "id": "cb33a3fe",
   "metadata": {},
   "outputs": [],
   "source": [
    "import torch\n",
    "import torch.nn as nn\n",
    "import os"
   ]
  },
  {
   "cell_type": "code",
   "execution_count": 3,
   "id": "9a21df09",
   "metadata": {},
   "outputs": [],
   "source": [
    "class Model(nn.Module):\n",
    "    def __init__(self, n_input_features):\n",
    "        super(Model, self).__init__()\n",
    "        self.linear = nn.Linear(n_input_features, 1)\n",
    "        \n",
    "    def forward(self, x):\n",
    "        y_pred = torch.sigmoid(self.Linear(x))\n",
    "        return y_pred"
   ]
  },
  {
   "cell_type": "code",
   "execution_count": 4,
   "id": "a1ffb96a",
   "metadata": {},
   "outputs": [
    {
     "name": "stdout",
     "output_type": "stream",
     "text": [
      "OrderedDict([('linear.weight', tensor([[ 0.0284,  0.3091, -0.3039, -0.1332, -0.0445, -0.1158]])), ('linear.bias', tensor([0.1065]))])\n"
     ]
    }
   ],
   "source": [
    "original_model = Model(n_input_features=6)\n",
    "# train the model...\n",
    "print(original_model.state_dict())"
   ]
  },
  {
   "cell_type": "markdown",
   "id": "2382c786",
   "metadata": {},
   "source": [
    "### Method 1"
   ]
  },
  {
   "cell_type": "code",
   "execution_count": 5,
   "id": "e4388804",
   "metadata": {},
   "outputs": [],
   "source": [
    "FILE1 = \"model.pth\"\n",
    "torch.save(original_model, FILE1)"
   ]
  },
  {
   "cell_type": "code",
   "execution_count": 6,
   "id": "71aca642",
   "metadata": {},
   "outputs": [
    {
     "name": "stdout",
     "output_type": "stream",
     "text": [
      "Parameter containing:\n",
      "tensor([[ 0.0284,  0.3091, -0.3039, -0.1332, -0.0445, -0.1158]],\n",
      "       requires_grad=True)\n",
      "Parameter containing:\n",
      "tensor([0.1065], requires_grad=True)\n"
     ]
    }
   ],
   "source": [
    "model_complete = torch.load(FILE1)\n",
    "model_complete.eval()\n",
    "\n",
    "for param in model_complete.parameters():\n",
    "    print(param)"
   ]
  },
  {
   "cell_type": "markdown",
   "id": "acaeb024",
   "metadata": {},
   "source": [
    "### Method 2"
   ]
  },
  {
   "cell_type": "code",
   "execution_count": 7,
   "id": "cee90451",
   "metadata": {},
   "outputs": [],
   "source": [
    "FILE2 = \"model_dict.pth\"\n",
    "torch.save(original_model.state_dict(), FILE2)"
   ]
  },
  {
   "cell_type": "code",
   "execution_count": 8,
   "id": "aacb3366",
   "metadata": {},
   "outputs": [
    {
     "name": "stdout",
     "output_type": "stream",
     "text": [
      "Parameter containing:\n",
      "tensor([[ 0.0284,  0.3091, -0.3039, -0.1332, -0.0445, -0.1158]],\n",
      "       requires_grad=True)\n",
      "Parameter containing:\n",
      "tensor([0.1065], requires_grad=True)\n"
     ]
    }
   ],
   "source": [
    "model_dict = Model(n_input_features=6)\n",
    "model_dict.load_state_dict(torch.load(FILE2))\n",
    "model_dict.eval()\n",
    "\n",
    "for param in model_dict.parameters():\n",
    "    print(param)"
   ]
  },
  {
   "cell_type": "markdown",
   "id": "e1a76fb3",
   "metadata": {},
   "source": [
    "### Checkpoint"
   ]
  },
  {
   "cell_type": "code",
   "execution_count": 9,
   "id": "eab175ff",
   "metadata": {},
   "outputs": [
    {
     "name": "stdout",
     "output_type": "stream",
     "text": [
      "{'state': {}, 'param_groups': [{'lr': 0.01, 'momentum': 0, 'dampening': 0, 'weight_decay': 0, 'nesterov': False, 'maximize': False, 'foreach': None, 'params': [0, 1]}]}\n"
     ]
    }
   ],
   "source": [
    "learning_rate = 0.01\n",
    "optimizer = torch.optim.SGD(original_model.parameters(), lr=learning_rate)\n",
    "print(optimizer.state_dict())"
   ]
  },
  {
   "cell_type": "code",
   "execution_count": 10,
   "id": "da0d5371",
   "metadata": {},
   "outputs": [],
   "source": [
    "FILE3 = \"checkpoint.pth\"\n",
    "\n",
    "checkpoint = {\n",
    "    \"epoch\": 90,\n",
    "    \"model_state\": original_model.state_dict(),\n",
    "    \"optim_state\": optimizer.state_dict()\n",
    "}\n",
    "\n",
    "torch.save(checkpoint, FILE3)"
   ]
  },
  {
   "cell_type": "code",
   "execution_count": 11,
   "id": "000a824c",
   "metadata": {},
   "outputs": [
    {
     "name": "stdout",
     "output_type": "stream",
     "text": [
      "{'state': {}, 'param_groups': [{'lr': 0.01, 'momentum': 0, 'dampening': 0, 'weight_decay': 0, 'nesterov': False, 'maximize': False, 'foreach': None, 'params': [0, 1]}]}\n"
     ]
    }
   ],
   "source": [
    "model_checkpoint = Model(n_input_features=6)\n",
    "optimizer_checkpoint = torch.optim.SGD(original_model.parameters(), lr=learning_rate)\n",
    "\n",
    "loaded_checkpoint = torch.load(FILE3)\n",
    "epoch = loaded_checkpoint[\"epoch\"]\n",
    "model_checkpoint.load_state_dict(checkpoint[\"model_state\"])\n",
    "optimizer_checkpoint.load_state_dict(checkpoint[\"optim_state\"])\n",
    "\n",
    "print(optimizer_checkpoint.state_dict())"
   ]
  },
  {
   "cell_type": "code",
   "execution_count": 12,
   "id": "2a9ec80e",
   "metadata": {},
   "outputs": [],
   "source": [
    "os.remove(FILE1)\n",
    "os.remove(FILE2)\n",
    "os.remove(FILE3)"
   ]
  }
 ],
 "metadata": {
  "kernelspec": {
   "display_name": "Python 3 (ipykernel)",
   "language": "python",
   "name": "python3"
  },
  "language_info": {
   "codemirror_mode": {
    "name": "ipython",
    "version": 3
   },
   "file_extension": ".py",
   "mimetype": "text/x-python",
   "name": "python",
   "nbconvert_exporter": "python",
   "pygments_lexer": "ipython3",
   "version": "3.7.13"
  }
 },
 "nbformat": 4,
 "nbformat_minor": 5
}
