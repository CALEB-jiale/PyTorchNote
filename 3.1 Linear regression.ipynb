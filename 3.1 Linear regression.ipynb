{
 "cells": [
  {
   "cell_type": "code",
   "execution_count": 1,
   "id": "d472564c",
   "metadata": {},
   "outputs": [],
   "source": [
    "# 1) design model (input size, output size, forward pass)\n",
    "# 2) construct loss and optimizer\n",
    "# 3) training loop\n",
    "#    - forward pass: compute predicgtion\n",
    "#    - backward pass: gradients\n",
    "#    - update weights\n",
    "import torch\n",
    "import torch.nn as nn # 用来获取网络模型\n",
    "import numpy as np # 用来进行数据转换\n",
    "from sklearn import datasets # 生成数据库\n",
    "import matplotlib.pyplot as plt"
   ]
  },
  {
   "cell_type": "code",
   "execution_count": 2,
   "id": "e402a0b7",
   "metadata": {},
   "outputs": [],
   "source": [
    "# 0) prepare data\n",
    "X_numpy, y_numpy = datasets.make_regression(n_samples = 100, n_features = 1, noise = 20, random_state = 1)\n",
    "\n",
    "X = torch.from_numpy(X_numpy.astype(np.float32)) # X.shape = torch.Size([100, 1])\n",
    "y = torch.from_numpy(y_numpy.astype(np.float32)) # y.shape = torch.Size([100])\n",
    "y = y.view(y.shape[0], 1) # 行向量转成列向量\n",
    "\n",
    "n_samples, n_features = X.shape"
   ]
  },
  {
   "cell_type": "code",
   "execution_count": 3,
   "id": "c79e1ac3",
   "metadata": {},
   "outputs": [],
   "source": [
    "# 1) model\n",
    "input_size = n_features\n",
    "output_size = 1\n",
    "model = nn.Linear(input_size, output_size)"
   ]
  },
  {
   "cell_type": "code",
   "execution_count": 4,
   "id": "203f1f1b",
   "metadata": {},
   "outputs": [],
   "source": [
    "# 2) loss and optimizer\n",
    "learning_rate = 0.01\n",
    "criterion = nn.MSELoss()\n",
    "optimizer = torch.optim.SGD(model.parameters(), lr = learning_rate)"
   ]
  },
  {
   "cell_type": "code",
   "execution_count": 5,
   "id": "1e11b25a",
   "metadata": {},
   "outputs": [
    {
     "name": "stdout",
     "output_type": "stream",
     "text": [
      "epoch: 10, loss = 4346.4927\n",
      "epoch: 20, loss = 3244.7576\n",
      "epoch: 30, loss = 2447.2480\n",
      "epoch: 40, loss = 1869.3600\n",
      "epoch: 50, loss = 1450.2117\n",
      "epoch: 60, loss = 1145.9302\n",
      "epoch: 70, loss = 924.8554\n",
      "epoch: 80, loss = 764.1136\n",
      "epoch: 90, loss = 647.1589\n",
      "epoch: 100, loss = 562.0092\n"
     ]
    }
   ],
   "source": [
    "# 3) training loop\n",
    "num_epochs = 100\n",
    "for epoch in range(num_epochs):\n",
    "    # forward pass and loss\n",
    "    y_predicted = model(X)\n",
    "    loss = criterion(y_predicted, y)\n",
    "    \n",
    "    # backward pass\n",
    "    loss.backward()\n",
    "    \n",
    "    # update\n",
    "    optimizer.step()\n",
    "    \n",
    "    # zero grad\n",
    "    optimizer.zero_grad()\n",
    "    \n",
    "    if (epoch + 1) % 10 == 0:\n",
    "        print(f\"epoch: {epoch + 1}, loss = {loss.item():.4f}\")"
   ]
  },
  {
   "cell_type": "code",
   "execution_count": 6,
   "id": "afac0917",
   "metadata": {},
   "outputs": [
    {
     "data": {
      "image/png": "[encoded data removed]",
      "text/plain": [
       "<Figure size 432x288 with 1 Axes>"
      ]
     },
     "metadata": {
      "needs_background": "light"
     },
     "output_type": "display_data"
    }
   ],
   "source": [
    "# plot\n",
    "# 在把 tensor 转换成 numpy 之前需要先把 requires_grad 设置回 False\n",
    "predicted = model(X).detach().numpy()\n",
    "plt.plot(X_numpy, y_numpy, 'ro')\n",
    "plt.plot(X_numpy, predicted, 'b')\n",
    "plt.show()"
   ]
  }
 ],
 "metadata": {
  "kernelspec": {
   "display_name": "Python 3 (ipykernel)",
   "language": "python",
   "name": "python3"
  },
  "language_info": {
   "codemirror_mode": {
    "name": "ipython",
    "version": 3
   },
   "file_extension": ".py",
   "mimetype": "text/x-python",
   "name": "python",
   "nbconvert_exporter": "python",
   "pygments_lexer": "ipython3",
   "version": "3.7.13"
  }
 },
 "nbformat": 4,
 "nbformat_minor": 5
}
