{
 "cells": [
  {
   "cell_type": "markdown",
   "id": "523b92d0",
   "metadata": {},
   "source": [
    "### TensorBoard\n",
    "TensorBoard 提供机器学习实验所需的可视化功能和工具：\n",
    "\n",
    "跟踪和可视化损失及准确率等指标\n",
    "\n",
    "可视化模型图（操作和层）\n",
    "\n",
    "查看权重、偏差或其他张量随时间变化的直方图\n",
    "\n",
    "将嵌入投射到较低的维度空间\n",
    "\n",
    "显示图片、文字和音频数据\n",
    "\n",
    "剖析 TensorFlow 程序"
   ]
  },
  {
   "cell_type": "code",
   "execution_count": 1,
   "id": "97231884",
   "metadata": {},
   "outputs": [],
   "source": [
    "# GPU support\n",
    "# MNIST\n",
    "# DataLoader, Transformation\n",
    "# Multilayer Neural Net, activation function\n",
    "# Loss and Optimizer\n",
    "# Training Loop (batch training)\n",
    "# model evaluation\n",
    "\n",
    "import torch\n",
    "import torch.nn as nn\n",
    "import torchvision\n",
    "import torchvision.transforms as transforms\n",
    "import matplotlib.pyplot as plt\n",
    "from torch.utils.tensorboard import SummaryWriter\n",
    "import sys\n",
    "import torch.nn.functional as F"
   ]
  },
  {
   "cell_type": "code",
   "execution_count": 2,
   "id": "c60e0030",
   "metadata": {},
   "outputs": [],
   "source": [
    "writer = SummaryWriter(\"/Users/lucas/Documents/runs/mnist3\")"
   ]
  },
  {
   "cell_type": "code",
   "execution_count": 3,
   "id": "cd118e32",
   "metadata": {},
   "outputs": [],
   "source": [
    "# device config\n",
    "device = torch.device('cuda' if torch.cuda.is_available() else 'cpu')"
   ]
  },
  {
   "cell_type": "code",
   "execution_count": 4,
   "id": "aca154e6",
   "metadata": {},
   "outputs": [],
   "source": [
    "# hyper parameters\n",
    "input_size = 784 # 28x28\n",
    "hidden_size = 100\n",
    "num_classes = 10\n",
    "num_epochs = 1\n",
    "batch_size = 100\n",
    "learning_rate = 0.01"
   ]
  },
  {
   "cell_type": "code",
   "execution_count": 5,
   "id": "b71e9928",
   "metadata": {},
   "outputs": [
    {
     "name": "stdout",
     "output_type": "stream",
     "text": [
      "torch.Size([100, 1, 28, 28]) torch.Size([100])\n"
     ]
    },
    {
     "data": {
      "image/png": "[encoded data removed]",
      "text/plain": [
       "<Figure size 432x288 with 6 Axes>"
      ]
     },
     "metadata": {
      "needs_background": "light"
     },
     "output_type": "display_data"
    }
   ],
   "source": [
    "# MNIST\n",
    "## download=True make sure it would be downloaded if it's not available\n",
    "train_dataset = torchvision.datasets.MNIST(root='./data', train=True, transform=transforms.ToTensor(),download=True)\n",
    "test_dataset = torchvision.datasets.MNIST(root='./data', train=False, transform=transforms.ToTensor())\n",
    "\n",
    "# DataLoader, Transformation\n",
    "train_loader = torch.utils.data.DataLoader(dataset=train_dataset, batch_size=batch_size, shuffle=True)\n",
    "test_loader = torch.utils.data.DataLoader(dataset=test_dataset, batch_size=batch_size, shuffle=False)\n",
    "\n",
    "examples = iter(train_loader)\n",
    "samples, labels = examples.next()\n",
    "print(samples.shape, labels.shape)\n",
    "# torch.Size([100, 1, 28, 28]) torch.Size([100])\n",
    "# [batch_size, num_channels, image_row, image_col] [batch_size]\n",
    "\n",
    "for i in range(6):\n",
    "    plt.subplot(2, 3, i+1)\n",
    "    plt.imshow(samples[i][0], cmap='gray') # [0] 表示 channel， cmap=color map\n",
    "\n",
    "# plt.show()\n",
    "img_grid = torchvision.utils.make_grid(samples)\n",
    "writer.add_image('mnist_images', img_grid)\n",
    "# writer.close()\n",
    "# sys.exit()"
   ]
  },
  {
   "cell_type": "code",
   "execution_count": 6,
   "id": "a3684a7b",
   "metadata": {},
   "outputs": [],
   "source": [
    "# Multilayer Neural Net, activation function\n",
    "# Fully connected neural network with one hidden layer\n",
    "class NeuralNet(nn.Module):\n",
    "    def __init__(self, input_size, hidden_size, num_classes):\n",
    "        super(NeuralNet, self).__init__()\n",
    "        self.linear1 = nn.Linear(input_size, hidden_size)\n",
    "        self.relu = nn.ReLU()\n",
    "        self.linear2 = nn.Linear(hidden_size, num_classes)\n",
    "            \n",
    "    def forward(self, x):\n",
    "        out = self.linear1(x)\n",
    "        out = self.relu(out)\n",
    "        out = self.linear2(out)\n",
    "        # 这里因为要使用 Cross Entropy，所以不用添加 Softmax\n",
    "        return out\n",
    "        \n",
    "model = NeuralNet(input_size, hidden_size, num_classes)"
   ]
  },
  {
   "cell_type": "code",
   "execution_count": 7,
   "id": "c214a955",
   "metadata": {},
   "outputs": [],
   "source": [
    "# loss and optimizer\n",
    "criterion = nn.CrossEntropyLoss()\n",
    "optimizer = torch.optim.Adam(model.parameters(), lr=learning_rate)"
   ]
  },
  {
   "cell_type": "code",
   "execution_count": 8,
   "id": "e8c842fd",
   "metadata": {},
   "outputs": [],
   "source": [
    "writer.add_graph(model, samples.reshape(-1, 28*28))\n",
    "# writer.close()\n",
    "# sys.exit()"
   ]
  },
  {
   "cell_type": "code",
   "execution_count": 9,
   "id": "8cfcaa44",
   "metadata": {},
   "outputs": [],
   "source": [
    "# training loop\n",
    "n_total_steps = len(train_loader)\n",
    "\n",
    "running_loss = 0.0\n",
    "running_correct = 0\n",
    "for epoch in range(num_epochs):\n",
    "    for i, (images, labels) in enumerate(train_loader):\n",
    "        # now we have to reshape images first\n",
    "        # origianl shape [100, 1, 28, 28]\n",
    "        # batch_size=100, num_channel=1, 28, 28\n",
    "        # num_samples=100, num_features=784=28x28\n",
    "        images = images.reshape(-1, 28*28).to(device)\n",
    "        labels = labels.to(device)\n",
    "        \n",
    "        # forward pass\n",
    "        outputs = model(images)\n",
    "        loss = criterion(outputs, labels)\n",
    "        \n",
    "        # backward pass\n",
    "        optimizer.zero_grad()\n",
    "        loss.backward()\n",
    "        optimizer.step() # update parameters\n",
    "        \n",
    "        running_loss += loss.item()\n",
    "        _, predictions = torch.max(outputs, 1)\n",
    "        running_correct += (predictions == labels).sum().item()\n",
    "        if (i+1) % 10 == 0:\n",
    "#             print(f\"epoch {epoch+1}/{num_epochs}, step {i+1}/{n_total_steps}, loss = {loss.item():.4f}\")\n",
    "            writer.add_scalar('training loss', running_loss/10, epoch*n_total_steps+i)\n",
    "            writer.add_scalar('accuracy', running_correct/10, epoch*n_total_steps+i)\n",
    "            running_loss = 0.0\n",
    "            running_correct = 0\n",
    "# writer.close()\n",
    "            "
   ]
  },
  {
   "cell_type": "code",
   "execution_count": 10,
   "id": "1a6c0c52",
   "metadata": {},
   "outputs": [
    {
     "name": "stdout",
     "output_type": "stream",
     "text": [
      "Accuracy = 95.96\n"
     ]
    }
   ],
   "source": [
    "# model evaluation\n",
    "labels1 = []\n",
    "preds = []\n",
    "with torch.no_grad():\n",
    "    n_correct = 0\n",
    "    n_samples = 0\n",
    "    for images, labels in test_loader:\n",
    "        images = images.reshape(-1, 28*28).to(device)\n",
    "        labels = labels.to(device)\n",
    "        outputs = model(images)\n",
    "        \n",
    "        # value, index\n",
    "        _, predictions = torch.max(outputs, 1)\n",
    "        n_samples += labels.shape[0]\n",
    "        n_correct += (predictions == labels).sum().item()\n",
    "        \n",
    "        class_predictions = [F.softmax(output, dim=0) for output in outputs]\n",
    "        preds.append(class_predictions)\n",
    "        labels1.append(predictions)\n",
    "    \n",
    "    preds = torch.cat([torch.stack(batch) for batch in preds])\n",
    "    labels1 = torch.cat(labels1)\n",
    "        \n",
    "acc = 100.0 * n_correct / n_samples\n",
    "print(f\"Accuracy = {acc}\")"
   ]
  },
  {
   "cell_type": "code",
   "execution_count": 11,
   "id": "f1728a1f",
   "metadata": {},
   "outputs": [],
   "source": [
    "classes = range(10)\n",
    "for i in classes:\n",
    "    labels_i = labels1 == i\n",
    "    preds_i = preds[:, 1]\n",
    "    writer.add_pr_curve(str(i), labels_i, preds_i, global_step=0)\n",
    "    writer.close()"
   ]
  }
 ],
 "metadata": {
  "kernelspec": {
   "display_name": "Python 3 (ipykernel)",
   "language": "python",
   "name": "python3"
  },
  "language_info": {
   "codemirror_mode": {
    "name": "ipython",
    "version": 3
   },
   "file_extension": ".py",
   "mimetype": "text/x-python",
   "name": "python",
   "nbconvert_exporter": "python",
   "pygments_lexer": "ipython3",
   "version": "3.7.13"
  }
 },
 "nbformat": 4,
 "nbformat_minor": 5
}
