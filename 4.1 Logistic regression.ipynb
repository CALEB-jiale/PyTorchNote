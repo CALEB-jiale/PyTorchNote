{
 "cells": [
  {
   "cell_type": "code",
   "execution_count": 1,
   "id": "d472564c",
   "metadata": {},
   "outputs": [],
   "source": [
    "# 1) design model (input size, output size, forward pass)\n",
    "# 2) construct loss and optimizer\n",
    "# 3) training loop\n",
    "#    - forward pass: compute predicgtion\n",
    "#    - backward pass: gradients\n",
    "#    - update weights\n",
    "import torch\n",
    "import torch.nn as nn # 用来获取网络模型\n",
    "import numpy as np # 用来进行数据转换\n",
    "from sklearn import datasets # 生成数据库\n",
    "from sklearn.preprocessing import StandardScaler # 用于把 features 标量化\n",
    "from sklearn.model_selection import train_test_split # 用于分割测试数据和训练数据\n",
    "import matplotlib.pyplot as plt"
   ]
  },
  {
   "cell_type": "code",
   "execution_count": 2,
   "id": "e402a0b7",
   "metadata": {},
   "outputs": [],
   "source": [
    "# 0) prepare data\n",
    "bc = datasets.load_breast_cancer()\n",
    "X, y = bc.data, bc.target\n",
    "\n",
    "n_samples, n_features = X.shape # n_samples = 569, n_features = 30\n",
    "\n",
    "X_train, X_test, y_train, y_test = train_test_split(X, y, test_size=0.2, random_state=1234)\n",
    "\n",
    "# scale features 正则化，使 features 的均值为 0，方差为 1\n",
    "sc = StandardScaler()\n",
    "X_train = sc.fit_transform(X_train)\n",
    "X_text = sc.fit_transform(X_test)\n",
    "\n",
    "# 转换成 tensor\n",
    "X_train = torch.from_numpy(X_train.astype(np.float32))\n",
    "X_test = torch.from_numpy(X_test.astype(np.float32))\n",
    "y_train = torch.from_numpy(y_train.astype(np.float32))\n",
    "y_test = torch.from_numpy(y_test.astype(np.float32))\n",
    "\n",
    "# 行向量转列向量\n",
    "y_train = y_train.view(y_train.shape[0], 1)\n",
    "y_test = y_test.view(y_test.shape[0], 1)"
   ]
  },
  {
   "cell_type": "code",
   "execution_count": 3,
   "id": "c79e1ac3",
   "metadata": {},
   "outputs": [],
   "source": [
    "# 1) model\n",
    "# f = wx + b, sigmoid at the end\n",
    "class LogisticRegression(nn.Module):\n",
    "    \n",
    "    def __init__(self, n_input_features):\n",
    "        super(LogisticRegression, self).__init__()\n",
    "        self.linear = nn.Linear(n_input_features, 1)\n",
    "        \n",
    "    def forward(self, x):\n",
    "        y_predicted = torch.sigmoid(self.linear(x))\n",
    "        return y_predicted\n",
    "    \n",
    "model = LogisticRegression(n_features)"
   ]
  },
  {
   "cell_type": "code",
   "execution_count": 4,
   "id": "203f1f1b",
   "metadata": {},
   "outputs": [],
   "source": [
    "# 2) loss and optimizer\n",
    "learning_rate = 0.01\n",
    "criterion = nn.MSELoss() # Binary Cross Entropy\n",
    "optimizer = torch.optim.SGD(model.parameters(), lr = learning_rate)"
   ]
  },
  {
   "cell_type": "code",
   "execution_count": 5,
   "id": "1e11b25a",
   "metadata": {},
   "outputs": [
    {
     "name": "stdout",
     "output_type": "stream",
     "text": [
      "epoch: 10, loss = 0.2179\n",
      "epoch: 20, loss = 0.1875\n",
      "epoch: 30, loss = 0.1650\n",
      "epoch: 40, loss = 0.1481\n",
      "epoch: 50, loss = 0.1351\n",
      "epoch: 60, loss = 0.1247\n",
      "epoch: 70, loss = 0.1163\n",
      "epoch: 80, loss = 0.1093\n",
      "epoch: 90, loss = 0.1035\n",
      "epoch: 100, loss = 0.0985\n",
      "epoch: 110, loss = 0.0942\n",
      "epoch: 120, loss = 0.0904\n",
      "epoch: 130, loss = 0.0871\n",
      "epoch: 140, loss = 0.0841\n",
      "epoch: 150, loss = 0.0814\n",
      "epoch: 160, loss = 0.0790\n",
      "epoch: 170, loss = 0.0768\n",
      "epoch: 180, loss = 0.0748\n",
      "epoch: 190, loss = 0.0729\n",
      "epoch: 200, loss = 0.0712\n"
     ]
    }
   ],
   "source": [
    "# 3) training loop\n",
    "num_epochs = 200\n",
    "for epoch in range(num_epochs):\n",
    "    # forward pass and loss\n",
    "    y_predicted = model(X_train)\n",
    "    loss = criterion(y_predicted, y_train)\n",
    "    \n",
    "    # backward pass\n",
    "    loss.backward()\n",
    "    \n",
    "    # update\n",
    "    optimizer.step()\n",
    "    \n",
    "    # zero gradients\n",
    "    optimizer.zero_grad()\n",
    "    \n",
    "    if (epoch + 1) % 10 == 0:\n",
    "        print(f\"epoch: {epoch + 1}, loss = {loss.item():.4f}\")"
   ]
  },
  {
   "cell_type": "code",
   "execution_count": 6,
   "id": "8c10444f",
   "metadata": {},
   "outputs": [
    {
     "name": "stdout",
     "output_type": "stream",
     "text": [
      "accuracy = 0.3947\n"
     ]
    }
   ],
   "source": [
    "# Evaluate\n",
    "with torch.no_grad():\n",
    "    y_predicted = model(X_test)\n",
    "    y_predicted_cls = y_predicted.round() # 如果不使用 no_grad，这一部分会被计入 computation graph\n",
    "    acc = y_predicted_cls.eq(y_test).sum() / float(y_test.shape[0])\n",
    "    print(f\"accuracy = {acc:.4f}\")"
   ]
  },
  {
   "cell_type": "code",
   "execution_count": null,
   "id": "101725f9",
   "metadata": {},
   "outputs": [],
   "source": []
  }
 ],
 "metadata": {
  "kernelspec": {
   "display_name": "Python 3 (ipykernel)",
   "language": "python",
   "name": "python3"
  },
  "language_info": {
   "codemirror_mode": {
    "name": "ipython",
    "version": 3
   },
   "file_extension": ".py",
   "mimetype": "text/x-python",
   "name": "python",
   "nbconvert_exporter": "python",
   "pygments_lexer": "ipython3",
   "version": "3.7.13"
  }
 },
 "nbformat": 4,
 "nbformat_minor": 5
}
