{
 "cells": [
  {
   "cell_type": "markdown",
   "id": "2274e0c3",
   "metadata": {},
   "source": [
    "### CNN\n",
    "#### Convolutional Layer\n",
    "\n",
    "$(W-F+2P)/S+1$\n",
    "\n",
    "例如：5x5 input, 3x3 filter, padding=0, stride=1\n",
    "\n",
    "$(5-3+0)/1+1=3$\n",
    "\n",
    "得到的图像为 3x3\n",
    "\n",
    "#### Max Pooling\n",
    "Reduce computational cost\n",
    "\n",
    "Avoid over-fitting"
   ]
  },
  {
   "cell_type": "code",
   "execution_count": 1,
   "id": "97231884",
   "metadata": {},
   "outputs": [],
   "source": [
    "# GPU support\n",
    "# CIFAR-10\n",
    "# DataLoader, Transformation\n",
    "# Multilayer Neural Net, activation function\n",
    "# Loss and Optimizer\n",
    "# Training Loop (batch training)\n",
    "# model evaluation\n",
    "\n",
    "import torch\n",
    "import torch.nn as nn\n",
    "import torch.nn.functional as F\n",
    "import torchvision\n",
    "import torchvision.transforms as transforms\n",
    "import matplotlib.pyplot as plt\n",
    "import numpy as np"
   ]
  },
  {
   "cell_type": "code",
   "execution_count": 2,
   "id": "cd118e32",
   "metadata": {},
   "outputs": [],
   "source": [
    "# device config\n",
    "device = torch.device('cuda' if torch.cuda.is_available() else 'cpu')"
   ]
  },
  {
   "cell_type": "code",
   "execution_count": 3,
   "id": "aca154e6",
   "metadata": {},
   "outputs": [],
   "source": [
    "# hyper parameters\n",
    "num_epochs = 4\n",
    "batch_size = 4\n",
    "learning_rate = 0.001"
   ]
  },
  {
   "cell_type": "code",
   "execution_count": 4,
   "id": "b71e9928",
   "metadata": {},
   "outputs": [
    {
     "name": "stdout",
     "output_type": "stream",
     "text": [
      "Files already downloaded and verified\n"
     ]
    },
    {
     "name": "stderr",
     "output_type": "stream",
     "text": [
      "Clipping input data to the valid range for imshow with RGB data ([0..1] for floats or [0..255] for integers).\n",
      "Clipping input data to the valid range for imshow with RGB data ([0..1] for floats or [0..255] for integers).\n",
      "Clipping input data to the valid range for imshow with RGB data ([0..1] for floats or [0..255] for integers).\n",
      "Clipping input data to the valid range for imshow with RGB data ([0..1] for floats or [0..255] for integers).\n"
     ]
    },
    {
     "name": "stdout",
     "output_type": "stream",
     "text": [
      "torch.Size([4, 3, 32, 32]) torch.Size([4])\n"
     ]
    },
    {
     "data": {
      "image/png": "[encoded data removed]",
      "text/plain": [
       "<Figure size 432x288 with 4 Axes>"
      ]
     },
     "metadata": {
      "needs_background": "light"
     },
     "output_type": "display_data"
    }
   ],
   "source": [
    "# dataset has PILImage images of range [0, 1]\n",
    "# we transform them to Tensors of normalized range [-1, 1]\n",
    "transform = transforms.Compose([transforms.ToTensor(), transforms.Normalize((0.5, 0.5, 0.5), (0.5, 0.5, 0.5))])\n",
    "\n",
    "## download=True make sure it would be downloaded if it's not available\n",
    "train_dataset = torchvision.datasets.CIFAR10(root='./data', train=True, transform=transform,download=True)\n",
    "test_dataset = torchvision.datasets.CIFAR10(root='./data', train=False, transform=transform)\n",
    "\n",
    "# DataLoader, Transformation\n",
    "train_loader = torch.utils.data.DataLoader(dataset=train_dataset, batch_size=batch_size, shuffle=True)\n",
    "test_loader = torch.utils.data.DataLoader(dataset=test_dataset, batch_size=batch_size, shuffle=False)\n",
    "\n",
    "classes = ('plane', 'car', 'bird', 'cat', 'deer', 'dog', 'frog', 'horse', 'ship', 'truck')\n",
    "\n",
    "examples = iter(train_loader)\n",
    "samples, labels = examples.next()\n",
    "print(samples.shape, labels.shape)\n",
    "# torch.Size([100, 1, 28, 28]) torch.Size([100])\n",
    "# [batch_size, num_channels, image_h, image_w] [batch_size]\n",
    "\n",
    "for i in range(4):\n",
    "    plt.subplot(2, 2, i+1)\n",
    "#     plt.imshow(samples[i][0], cmap='gray') # [0] 表示 channel， cmap=color map\n",
    "    plt.imshow(np.transpose(samples[i].numpy(), (1, 2, 0)))\n",
    "plt.show()"
   ]
  },
  {
   "cell_type": "code",
   "execution_count": 5,
   "id": "a3684a7b",
   "metadata": {},
   "outputs": [],
   "source": [
    "# Multilayer Neural Net, activation function\n",
    "class ConvNet(nn.Module):\n",
    "    def __init__(self):\n",
    "        super(ConvNet, self).__init__()\n",
    "        self.conv1 = nn.Conv2d(3, 6, 5) # input_channel_size, output_channel_size, kernel_size\n",
    "        self.pool = nn.MaxPool2d(2, 2)\n",
    "        self.conv2 = nn.Conv2d(6, 16, 5) # conv2.input_channel_size = conv1.output_channel_size\n",
    "        self.fc1 = nn.Linear(16*5*5, 120) # fully connected layer\n",
    "        self.fc2 = nn.Linear(120, 84)\n",
    "        self.fc3 = nn.Linear(84, 10)\n",
    "        \n",
    "        # 原来 torch.Size 是 [4, 3, 32, 32]\n",
    "        \n",
    "        # 经过卷基层后变成 [4, 6, 28, 28]\n",
    "        # batch_size=4, input_channel_size=3, output_channel_size=6\n",
    "        # W=32, F=5, P=0, S=1, (W-F+2P)/S+1=28\n",
    "        # activation function 不改变 torch.Size\n",
    "        \n",
    "        # 经过池化层后变为 [4, 6, 14, 14]\n",
    "        # 28/2=14\n",
    "        \n",
    "        # 再次卷积变为 [4e\n",
    "        # W=14, F=5, P=0, S=1, (W-F+2P)/S+1=10\n",
    "        \n",
    "        # 再次池化，变成 [4, 16, 5, 5]\n",
    "        # 因此第一个全连接层的 input_size 为 16*5*5\n",
    "\n",
    "    def forward(self, x):\n",
    "        x = F.relu(self.conv1(x))\n",
    "        x = self.pool(x)\n",
    "        x = F.relu(self.conv2(x))\n",
    "        x = self.pool(x)\n",
    "        x = x.view(-1, 16*5*5)\n",
    "        x = F.relu(self.fc1(x))\n",
    "        x = F.relu(self.fc2(x))\n",
    "        x = F.relu(self.fc3(x))\n",
    "        # 这里因为要使用 Cross Entropy，所以不用添加 Softmax\n",
    "        return x\n",
    "        \n",
    "model = ConvNet().to(device)"
   ]
  },
  {
   "cell_type": "code",
   "execution_count": 6,
   "id": "c214a955",
   "metadata": {},
   "outputs": [],
   "source": [
    "# loss and optimizer\n",
    "criterion = nn.CrossEntropyLoss()\n",
    "optimizer = torch.optim.SGD(model.parameters(), lr=learning_rate)"
   ]
  },
  {
   "cell_type": "code",
   "execution_count": 7,
   "id": "8cfcaa44",
   "metadata": {},
   "outputs": [
    {
     "name": "stdout",
     "output_type": "stream",
     "text": [
      "epoch 1/4, step 2000/12500, loss = 2.2905\n",
      "epoch 1/4, step 4000/12500, loss = 2.3133\n",
      "epoch 1/4, step 6000/12500, loss = 2.3030\n",
      "epoch 1/4, step 8000/12500, loss = 2.3121\n",
      "epoch 1/4, step 10000/12500, loss = 2.3041\n",
      "epoch 1/4, step 12000/12500, loss = 2.2654\n",
      "epoch 2/4, step 2000/12500, loss = 2.3701\n",
      "epoch 2/4, step 4000/12500, loss = 2.3014\n",
      "epoch 2/4, step 6000/12500, loss = 2.1848\n",
      "epoch 2/4, step 8000/12500, loss = 2.2493\n",
      "epoch 2/4, step 10000/12500, loss = 2.3219\n",
      "epoch 2/4, step 12000/12500, loss = 2.3685\n",
      "epoch 3/4, step 2000/12500, loss = 2.3030\n",
      "epoch 3/4, step 4000/12500, loss = 1.9219\n",
      "epoch 3/4, step 6000/12500, loss = 2.1521\n",
      "epoch 3/4, step 8000/12500, loss = 2.2596\n",
      "epoch 3/4, step 10000/12500, loss = 2.3907\n",
      "epoch 3/4, step 12000/12500, loss = 2.2912\n",
      "epoch 4/4, step 2000/12500, loss = 2.2367\n",
      "epoch 4/4, step 4000/12500, loss = 1.4583\n",
      "epoch 4/4, step 6000/12500, loss = 2.1116\n",
      "epoch 4/4, step 8000/12500, loss = 1.8370\n",
      "epoch 4/4, step 10000/12500, loss = 1.7394\n",
      "epoch 4/4, step 12000/12500, loss = 1.7957\n",
      "Finished Training\n"
     ]
    }
   ],
   "source": [
    "# training loop\n",
    "n_total_steps = len(train_loader)\n",
    "for epoch in range(num_epochs):\n",
    "    for i, (images, labels) in enumerate(train_loader):\n",
    "        # now we have to reshape images first\n",
    "        # batch_size=100, num_channel=1, 28, 28\n",
    "        # num_samples=100, num_features=784=28x28\n",
    "        images = images.to(device)\n",
    "        labels = labels.to(device)\n",
    "        \n",
    "        # forward pass\n",
    "        outputs = model(images)\n",
    "        loss = criterion(outputs, labels)\n",
    "        \n",
    "        # backward pass\n",
    "        optimizer.zero_grad()\n",
    "        loss.backward()\n",
    "        optimizer.step() # update parameters\n",
    "        \n",
    "        if (i+1) % 2000 == 0:\n",
    "            print(f\"epoch {epoch+1}/{num_epochs}, step {i+1}/{n_total_steps}, loss = {loss.item():.4f}\")\n",
    "            \n",
    "print(\"Finished Training\")            "
   ]
  },
  {
   "cell_type": "code",
   "execution_count": 8,
   "id": "1a6c0c52",
   "metadata": {},
   "outputs": [
    {
     "name": "stdout",
     "output_type": "stream",
     "text": [
      "Accuracy of the network = 32.37\n"
     ]
    }
   ],
   "source": [
    "# model evaluation\n",
    "with torch.no_grad():\n",
    "    n_correct = 0\n",
    "    n_samples = 0\n",
    "    n_class_correct = [0 for i in range(10)]\n",
    "    n_class_samples = [0 for i in range(10)]\n",
    "    for images, labels in test_loader:\n",
    "        images = images.to(device)\n",
    "        labels = labels.to(device)\n",
    "        outputs = model(images)\n",
    "        \n",
    "        # value, index\n",
    "        _, predictions = torch.max(outputs, 1)\n",
    "        n_samples += labels.shape[0]\n",
    "        n_correct += (predictions == labels).sum().item()\n",
    "        \n",
    "        for i in range(batch_size):\n",
    "            label = labels[i]\n",
    "            pred = predictions[i]\n",
    "            if label == pred:\n",
    "                n_class_correct[label] += 1\n",
    "            n_class_samples[label] += 1\n",
    "        \n",
    "acc = 100.0 * n_correct / n_samples\n",
    "print(f\"Accuracy of the network = {acc}\")"
   ]
  },
  {
   "cell_type": "code",
   "execution_count": 9,
   "id": "f1728a1f",
   "metadata": {},
   "outputs": [
    {
     "name": "stdout",
     "output_type": "stream",
     "text": [
      "Accuracy of plane: 45.2 %\n",
      "Accuracy of car: 37.4 %\n",
      "Accuracy of bird: 0.0 %\n",
      "Accuracy of cat: 20.3 %\n",
      "Accuracy of deer: 0.0 %\n",
      "Accuracy of dog: 49.1 %\n",
      "Accuracy of frog: 65.9 %\n",
      "Accuracy of horse: 0.0 %\n",
      "Accuracy of ship: 45.4 %\n",
      "Accuracy of truck: 60.4 %\n"
     ]
    }
   ],
   "source": [
    "for i in range(10):\n",
    "    acc = 100.0 * n_class_correct[i] / n_class_samples[i]\n",
    "    print(f\"Accuracy of {classes[i]}: {acc} %\")"
   ]
  },
  {
   "cell_type": "code",
   "execution_count": null,
   "id": "4140a4f9",
   "metadata": {},
   "outputs": [],
   "source": []
  }
 ],
 "metadata": {
  "kernelspec": {
   "display_name": "Python 3 (ipykernel)",
   "language": "python",
   "name": "python3"
  },
  "language_info": {
   "codemirror_mode": {
    "name": "ipython",
    "version": 3
   },
   "file_extension": ".py",
   "mimetype": "text/x-python",
   "name": "python",
   "nbconvert_exporter": "python",
   "pygments_lexer": "ipython3",
   "version": "3.9.13"
  }
 },
 "nbformat": 4,
 "nbformat_minor": 5
}
