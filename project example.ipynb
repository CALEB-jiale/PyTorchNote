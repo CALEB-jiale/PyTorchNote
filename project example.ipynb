{
 "cells": [
  {
   "cell_type": "code",
   "execution_count": 1,
   "id": "92acb7cd",
   "metadata": {},
   "outputs": [],
   "source": [
    "import torch\n",
    "from sklearn import datasets\n",
    "import torch.nn.functional as Fun"
   ]
  },
  {
   "cell_type": "code",
   "execution_count": 2,
   "id": "2743f2c4",
   "metadata": {},
   "outputs": [],
   "source": [
    "# 1. 数据准备\n",
    "dataset = datasets.load_iris()\n",
    "data = dataset['data']\n",
    "iris_type = dataset['target']\n",
    "\n",
    "input = torch.FloatTensor(dataset['data'])\n",
    "label = torch.LongTensor(dataset['target'])"
   ]
  },
  {
   "cell_type": "code",
   "execution_count": 4,
   "id": "4c9a5bce",
   "metadata": {},
   "outputs": [],
   "source": [
    "# 2. 定义BP神经网络\n",
    "class Net(torch.nn.Module):\n",
    "    def __init__(self, n_feature, n_hidden, n_output):\n",
    "        super(Net, self).__init__()\n",
    "        self.hidden = torch.nn.Linear(n_feature, n_hidden)   # 定义隐藏层网络\n",
    "        self.out = torch.nn.Linear(n_hidden, n_output)   # 定义输出层网络\n",
    "\n",
    "    def forward(self, x):\n",
    "        x = Fun.relu(self.hidden(x))      # 隐藏层的激活函数,采用 relu,也可以采用 sigmod,tanh\n",
    "        x = self.out(x)                   # 输出层不用激活函数\n",
    "        return x"
   ]
  },
  {
   "cell_type": "code",
   "execution_count": 5,
   "id": "47ede3be",
   "metadata": {},
   "outputs": [],
   "source": [
    "# 3. 定义优化器和损失函数\n",
    "# n_feature：输入的特征维度，n_hiddenb：神经元个数，n_output：输出的类别个数\n",
    "net = Net(n_feature=4, n_hidden=20, n_output=3)\n",
    "optimizer = torch.optim.SGD(net.parameters(), lr=0.02) # 优化器选用随机梯度下降方式\n",
    "loss_func = torch.nn.CrossEntropyLoss() # 对于多分类一般采用的交叉熵损失函数"
   ]
  },
  {
   "cell_type": "code",
   "execution_count": 6,
   "id": "cb645d39",
   "metadata": {},
   "outputs": [],
   "source": [
    "# 4. 训练网络\n",
    "for i in range(500):\n",
    "    out = net(input)                 # 输入 input,输出 out\n",
    "    loss = loss_func(out, label)     # 输出与 label 对比\n",
    "    optimizer.zero_grad()   # 梯度清零\n",
    "    loss.backward()         # 前馈操作\n",
    "    optimizer.step()        # 使用梯度优化器"
   ]
  },
  {
   "cell_type": "code",
   "execution_count": 7,
   "id": "1bfe52fe",
   "metadata": {},
   "outputs": [],
   "source": [
    "# 5. 得出结果\n",
    "out = net(input) # out 是一个计算矩阵，可以用 Fun.softmax(out) 转化为概率矩阵\n",
    "prediction = torch.max(out, 1)[1] # 返回 index 0返回原值\n",
    "pred_y = prediction.data.numpy()\n",
    "target_y = label.data.numpy()"
   ]
  },
  {
   "cell_type": "code",
   "execution_count": 8,
   "id": "c012b74d",
   "metadata": {},
   "outputs": [
    {
     "name": "stdout",
     "output_type": "stream",
     "text": [
      "莺尾花预测准确率 0.9733333333333334\n"
     ]
    }
   ],
   "source": [
    "# 6.衡量准确率\n",
    "accuracy = float((pred_y == target_y).astype(int).sum()) / float(target_y.size)\n",
    "print(\"莺尾花预测准确率\",accuracy)"
   ]
  }
 ],
 "metadata": {
  "kernelspec": {
   "display_name": "Python 3 (ipykernel)",
   "language": "python",
   "name": "python3"
  },
  "language_info": {
   "codemirror_mode": {
    "name": "ipython",
    "version": 3
   },
   "file_extension": ".py",
   "mimetype": "text/x-python",
   "name": "python",
   "nbconvert_exporter": "python",
   "pygments_lexer": "ipython3",
   "version": "3.9.13"
  }
 },
 "nbformat": 4,
 "nbformat_minor": 5
}
