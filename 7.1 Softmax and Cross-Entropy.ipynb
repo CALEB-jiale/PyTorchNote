{
 "cells": [
  {
   "cell_type": "markdown",
   "id": "d5f3f436",
   "metadata": {},
   "source": [
    "### Softmax\n",
    "\n",
    "$$S(y_i)=\\frac{e^{y_i}}{\\sum{e^{y_j}}}$$\n",
    "\n",
    "将数据转换为“概率”， 数据值越大，概率越大"
   ]
  },
  {
   "cell_type": "code",
   "execution_count": 1,
   "id": "47f30b6a",
   "metadata": {},
   "outputs": [],
   "source": [
    "import torch\n",
    "import torch.nn as nn\n",
    "import numpy as np"
   ]
  },
  {
   "cell_type": "code",
   "execution_count": 2,
   "id": "115292fc",
   "metadata": {},
   "outputs": [
    {
     "name": "stdout",
     "output_type": "stream",
     "text": [
      "softmax numpy: [0.65900114 0.24243297 0.09856589]\n"
     ]
    }
   ],
   "source": [
    "def softmax(x):\n",
    "    return np.exp(x) / np.sum(np.exp(x), axis=0) # axis=0 表示对同一个 sample 中的 features 进行操作\n",
    "\n",
    "x = np.array([2.0, 1.0, 0.1])\n",
    "outputs = softmax(x)\n",
    "print(\"softmax numpy:\", outputs)"
   ]
  },
  {
   "cell_type": "code",
   "execution_count": 4,
   "id": "45c35554",
   "metadata": {},
   "outputs": [
    {
     "name": "stdout",
     "output_type": "stream",
     "text": [
      "tensor([0.6590, 0.2424, 0.0986])\n"
     ]
    }
   ],
   "source": [
    "x = torch.tensor([2.0, 1.0, 0.1])\n",
    "outputs = torch.softmax(x, dim=0) # 相当于 axis=0\n",
    "print(outputs)"
   ]
  },
  {
   "cell_type": "markdown",
   "id": "d55747af",
   "metadata": {},
   "source": [
    "### Cross-Entropy\n",
    "\n",
    "$$ D(\\hat{Y}, Y) = -\\frac{1}{N} \\cdot \\sum{Y_i \\cdot \\text{log}(\\hat{Y}_i)}$$\n",
    "\n",
    "$Y$ 必须是 one-hot encoded\n",
    "\n",
    "$\\hat{Y}$ 是概率（softmax）"
   ]
  },
  {
   "cell_type": "code",
   "execution_count": 5,
   "id": "6b0f41dd",
   "metadata": {},
   "outputs": [],
   "source": [
    "def cross_entropy(actual, predicted):\n",
    "    loss = -np.sum(actual * np.log(predicted))\n",
    "    return loss # / float(predicted.shape[0])"
   ]
  },
  {
   "cell_type": "code",
   "execution_count": 6,
   "id": "01e33cc9",
   "metadata": {},
   "outputs": [
    {
     "name": "stdout",
     "output_type": "stream",
     "text": [
      "Loss1 numpy: 0.3567\n",
      "Loss2 numpy: 2.3026\n"
     ]
    }
   ],
   "source": [
    "# \\hat{Y} must be one hot encoded\n",
    "# if class 0: [1 0 0]\n",
    "# if class 1: [0 1 0]\n",
    "# if class 2: [0 0 1]\n",
    "Y = np.array([1, 0, 0])\n",
    "\n",
    "# y_pred has probabilities\n",
    "Y_pred_good = np.array([0.7, 0.2, 0.1])\n",
    "Y_pred_bad = np.array([0.1, 0.3, 0.6])\n",
    "l1 = cross_entropy(Y, Y_pred_good)\n",
    "l2 = cross_entropy(Y, Y_pred_bad)\n",
    "print(f\"Loss1 numpy: {l1:.4f}\")\n",
    "print(f\"Loss2 numpy: {l2:.4f}\")"
   ]
  },
  {
   "cell_type": "markdown",
   "id": "42ecb2d6",
   "metadata": {},
   "source": [
    "### Practice with pytorch\n",
    "\n",
    "注意：在 nn.CrossEntropyLoss 中已经应用了 Softmax，所以我们不用再手动添加\n",
    "\n",
    "No Softmax in last layer\n",
    "\n",
    "Y has class labels, not One-Hot\n",
    "\n",
    "Y_pred has raw scores (logits), no Softmax"
   ]
  },
  {
   "cell_type": "code",
   "execution_count": 12,
   "id": "d371aaee",
   "metadata": {},
   "outputs": [
    {
     "name": "stdout",
     "output_type": "stream",
     "text": [
      "0.3018244206905365\n",
      "1.947229027748108\n",
      "tensor([2, 0, 1])\n",
      "tensor([1, 2, 0])\n"
     ]
    }
   ],
   "source": [
    "loss = nn.CrossEntropyLoss()\n",
    "\n",
    "# 3 samples\n",
    "Y = torch.tensor([2, 0, 1])\n",
    "# n_samples * n_features = 3 * 3\n",
    "Y_pred_good = torch.tensor([[0.1, 1.0, 2.1], [2.0, 1.0, 0.1], [0.1, 3.0, 0.1]])\n",
    "Y_pred_bad = torch.tensor([[0.5, 2.0, 0.3], [0.1, 1.0, 2.1], [2.0, 1.0, 0.1]])\n",
    "\n",
    "l1 = loss(Y_pred_good, Y)\n",
    "l2 = loss(Y_pred_bad, Y)\n",
    "\n",
    "print(l1.item())\n",
    "print(l2.item())\n",
    "\n",
    "# get the actual prediction\n",
    "_, predictions1 = torch.max(Y_pred_good, 1)\n",
    "_, predictions2 = torch.max(Y_pred_bad, 1)\n",
    "print(predictions1)\n",
    "print(predictions2)"
   ]
  },
  {
   "cell_type": "markdown",
   "id": "201ddcd1",
   "metadata": {},
   "source": [
    "### 分类神经网络中的应用"
   ]
  },
  {
   "cell_type": "code",
   "execution_count": 19,
   "id": "9137c26d",
   "metadata": {},
   "outputs": [],
   "source": [
    "# Multicalss problem\n",
    "class NeuralNet2(nn.Module):\n",
    "    def __init__(self, input_size, hidden_size, num_classes):\n",
    "        super(NeuralNet2, self).__init__()\n",
    "        self.linear1 = nn.Linear(input_size, hidden_size)\n",
    "        self.relu = nn.ReLU()\n",
    "        self.linear2 = nn.Linear(hidden_size, num_classes)\n",
    "        \n",
    "    def forward(self, x):\n",
    "        out = self.linear1(x)\n",
    "        out = self.relu(out)\n",
    "        out = self.linear2(out)\n",
    "        # no softmax at the end\n",
    "        return out"
   ]
  },
  {
   "cell_type": "code",
   "execution_count": 20,
   "id": "c1e3bcea",
   "metadata": {},
   "outputs": [],
   "source": [
    "model = NeuralNet2(input_size=28*28, hidden_size=5, num_classes=3)\n",
    "criterion = nn.CrossEntropyLoss() # applies Softmax"
   ]
  },
  {
   "cell_type": "markdown",
   "id": "5824ed7e",
   "metadata": {},
   "source": [
    "### 二分类网络"
   ]
  },
  {
   "cell_type": "code",
   "execution_count": 26,
   "id": "d9f3ea51",
   "metadata": {},
   "outputs": [],
   "source": [
    "# Binary classification\n",
    "class NeuralNet1(nn.Module):\n",
    "    def __init__(self, input_size, hidden_size):\n",
    "        super(NeuralNet1, self).__init__()\n",
    "        self.linear1 = nn.Linear(input_size, hidden_size)\n",
    "        self.relu = nn.ReLU()\n",
    "        self.linear2 = nn.Linear(hidden_size, 1)\n",
    "        \n",
    "    def forward(self, x):\n",
    "        out = self.linear1(x)\n",
    "        out = self.relu(out)\n",
    "        out = self.linear2(out)\n",
    "        # sigmoid at the end\n",
    "        y_pred = torch.sigmoid(out)\n",
    "        return y_pred"
   ]
  },
  {
   "cell_type": "code",
   "execution_count": 27,
   "id": "9c02df47",
   "metadata": {},
   "outputs": [],
   "source": [
    "model = NeuralNet1(input_size=28*28, hidden_size=5)\n",
    "criterion = nn.BCELoss()"
   ]
  },
  {
   "cell_type": "code",
   "execution_count": null,
   "id": "f02798ec",
   "metadata": {},
   "outputs": [],
   "source": []
  }
 ],
 "metadata": {
  "kernelspec": {
   "display_name": "Python 3 (ipykernel)",
   "language": "python",
   "name": "python3"
  },
  "language_info": {
   "codemirror_mode": {
    "name": "ipython",
    "version": 3
   },
   "file_extension": ".py",
   "mimetype": "text/x-python",
   "name": "python",
   "nbconvert_exporter": "python",
   "pygments_lexer": "ipython3",
   "version": "3.7.13"
  }
 },
 "nbformat": 4,
 "nbformat_minor": 5
}
